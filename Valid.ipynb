{
 "cells": [
  {
   "cell_type": "code",
   "execution_count": 2,
   "id": "8f940eb0",
   "metadata": {},
   "outputs": [],
   "source": [
    "import os\n",
    "os.environ[\"CUDA_DEVICE_ORDER\"]=\"PCI_BUS_ID\"\n",
    "os.environ[\"CUDA_VISIBLE_DEVICES\"]= \"0\" \n",
    "import numpy as np\n",
    "import argparse\n",
    "import pandas as pd\n",
    "import torch\n",
    "import torch.nn as nn\n",
    "from torchvision import transforms\n",
    "import torch.nn.functional as F\n",
    "from EXP_module.src.model import NLA_r18\n",
    "from EXP_module.src.utils import *\n",
    "from EXP_module.src.resnet import *\n",
    "torch.autograd.set_detect_anomaly(True)\n",
    "\n",
    "parser = argparse.ArgumentParser()\n",
    "parser.add_argument('--dataset', default=\"rafdb\", type=str, choices=['rafdb', 'Ferplus', 'AffecNet'], help=\"experiment dataset\")\n",
    "parser.add_argument('--exp_name', default=\"NAW_NLA\", type=str, choices=['NAW_NLA', 'NAW_CAM', 'NAW_L1', 'L1', 'CAM', 'JSD'], help=\"training strategy\")\n",
    "parser.add_argument('--open_set', default=\"None\", type=str, choices=['Neutral', 'Happiness', 'Surprise', 'Disgust', 'Anger', 'Sadness', 'Fear'], help=\"open-set\")\n",
    "parser.add_argument('--dataset_path', type=str, default='/NLA/imgs/RAF-DB', help='raf_dataset_path')\n",
    "parser.add_argument('--label_path', type=str, default='/NLA/imgs/list_patition_label.txt', help='label_path')\n",
    "parser.add_argument('--num_classes', type=int, default=7)\n",
    "parser.add_argument('--feature_embedding', type=int, default=512)\n",
    "parser.add_argument('--batch_size', type=int, default=32, help='batch_size')\n",
    "parser.add_argument('--workers', type=int, default=4, help='number of workers')\n",
    "parser.add_argument('--gpu', type=int, default=0, help='the number of the device')\n",
    "# other setting\n",
    "parser.add_argument('--noise', type=bool, default=False, help='learning from noise label')  \n",
    "parser.add_argument('--imbalanced', type=bool, default=False, help='learning from imbalanced label')\n",
    "parser.add_argument('--seed', type=int, default=11111135)\n",
    "args = parser.parse_args([])"
   ]
  },
  {
   "cell_type": "code",
   "execution_count": 3,
   "id": "db79239a",
   "metadata": {},
   "outputs": [],
   "source": [
    "eval_transforms = transforms.Compose([\n",
    "    transforms.ToPILImage(),\n",
    "    transforms.Resize((224, 224)),\n",
    "    transforms.ToTensor(),\n",
    "    transforms.Normalize(mean=[0.577, 0.4494, 0.4001],\n",
    "                        std=[0.2628, 0.2395, 0.2383])])\n"
   ]
  },
  {
   "cell_type": "code",
   "execution_count": 4,
   "id": "cbdb318e",
   "metadata": {},
   "outputs": [],
   "source": [
    "cp = torch.load('/NLA/EXP_module/weights/best.pth')"
   ]
  },
  {
   "cell_type": "code",
   "execution_count": 5,
   "id": "69c1cbb8",
   "metadata": {},
   "outputs": [],
   "source": [
    "model = NLA_r18(args)"
   ]
  },
  {
   "cell_type": "code",
   "execution_count": 6,
   "id": "982edd9a",
   "metadata": {},
   "outputs": [
    {
     "data": {
      "text/plain": [
       "NLA_r18(\n",
       "  (features): Sequential(\n",
       "    (0): Conv2d(3, 64, kernel_size=(7, 7), stride=(2, 2), padding=(3, 3), bias=False)\n",
       "    (1): BatchNorm2d(64, eps=1e-05, momentum=0.1, affine=True, track_running_stats=True)\n",
       "    (2): ReLU(inplace=True)\n",
       "    (3): MaxPool2d(kernel_size=3, stride=2, padding=1, dilation=1, ceil_mode=False)\n",
       "    (4): Sequential(\n",
       "      (0): BasicBlock(\n",
       "        (conv1): Conv2d(64, 64, kernel_size=(3, 3), stride=(1, 1), padding=(1, 1), bias=False)\n",
       "        (bn1): BatchNorm2d(64, eps=1e-05, momentum=0.1, affine=True, track_running_stats=True)\n",
       "        (relu): ReLU(inplace=True)\n",
       "        (conv2): Conv2d(64, 64, kernel_size=(3, 3), stride=(1, 1), padding=(1, 1), bias=False)\n",
       "        (bn2): BatchNorm2d(64, eps=1e-05, momentum=0.1, affine=True, track_running_stats=True)\n",
       "      )\n",
       "      (1): BasicBlock(\n",
       "        (conv1): Conv2d(64, 64, kernel_size=(3, 3), stride=(1, 1), padding=(1, 1), bias=False)\n",
       "        (bn1): BatchNorm2d(64, eps=1e-05, momentum=0.1, affine=True, track_running_stats=True)\n",
       "        (relu): ReLU(inplace=True)\n",
       "        (conv2): Conv2d(64, 64, kernel_size=(3, 3), stride=(1, 1), padding=(1, 1), bias=False)\n",
       "        (bn2): BatchNorm2d(64, eps=1e-05, momentum=0.1, affine=True, track_running_stats=True)\n",
       "      )\n",
       "    )\n",
       "    (5): Sequential(\n",
       "      (0): BasicBlock(\n",
       "        (conv1): Conv2d(64, 128, kernel_size=(3, 3), stride=(2, 2), padding=(1, 1), bias=False)\n",
       "        (bn1): BatchNorm2d(128, eps=1e-05, momentum=0.1, affine=True, track_running_stats=True)\n",
       "        (relu): ReLU(inplace=True)\n",
       "        (conv2): Conv2d(128, 128, kernel_size=(3, 3), stride=(1, 1), padding=(1, 1), bias=False)\n",
       "        (bn2): BatchNorm2d(128, eps=1e-05, momentum=0.1, affine=True, track_running_stats=True)\n",
       "        (downsample): Sequential(\n",
       "          (0): Conv2d(64, 128, kernel_size=(1, 1), stride=(2, 2), bias=False)\n",
       "          (1): BatchNorm2d(128, eps=1e-05, momentum=0.1, affine=True, track_running_stats=True)\n",
       "        )\n",
       "      )\n",
       "      (1): BasicBlock(\n",
       "        (conv1): Conv2d(128, 128, kernel_size=(3, 3), stride=(1, 1), padding=(1, 1), bias=False)\n",
       "        (bn1): BatchNorm2d(128, eps=1e-05, momentum=0.1, affine=True, track_running_stats=True)\n",
       "        (relu): ReLU(inplace=True)\n",
       "        (conv2): Conv2d(128, 128, kernel_size=(3, 3), stride=(1, 1), padding=(1, 1), bias=False)\n",
       "        (bn2): BatchNorm2d(128, eps=1e-05, momentum=0.1, affine=True, track_running_stats=True)\n",
       "      )\n",
       "    )\n",
       "    (6): Sequential(\n",
       "      (0): BasicBlock(\n",
       "        (conv1): Conv2d(128, 256, kernel_size=(3, 3), stride=(2, 2), padding=(1, 1), bias=False)\n",
       "        (bn1): BatchNorm2d(256, eps=1e-05, momentum=0.1, affine=True, track_running_stats=True)\n",
       "        (relu): ReLU(inplace=True)\n",
       "        (conv2): Conv2d(256, 256, kernel_size=(3, 3), stride=(1, 1), padding=(1, 1), bias=False)\n",
       "        (bn2): BatchNorm2d(256, eps=1e-05, momentum=0.1, affine=True, track_running_stats=True)\n",
       "        (downsample): Sequential(\n",
       "          (0): Conv2d(128, 256, kernel_size=(1, 1), stride=(2, 2), bias=False)\n",
       "          (1): BatchNorm2d(256, eps=1e-05, momentum=0.1, affine=True, track_running_stats=True)\n",
       "        )\n",
       "      )\n",
       "      (1): BasicBlock(\n",
       "        (conv1): Conv2d(256, 256, kernel_size=(3, 3), stride=(1, 1), padding=(1, 1), bias=False)\n",
       "        (bn1): BatchNorm2d(256, eps=1e-05, momentum=0.1, affine=True, track_running_stats=True)\n",
       "        (relu): ReLU(inplace=True)\n",
       "        (conv2): Conv2d(256, 256, kernel_size=(3, 3), stride=(1, 1), padding=(1, 1), bias=False)\n",
       "        (bn2): BatchNorm2d(256, eps=1e-05, momentum=0.1, affine=True, track_running_stats=True)\n",
       "      )\n",
       "    )\n",
       "    (7): Sequential(\n",
       "      (0): BasicBlock(\n",
       "        (conv1): Conv2d(256, 512, kernel_size=(3, 3), stride=(2, 2), padding=(1, 1), bias=False)\n",
       "        (bn1): BatchNorm2d(512, eps=1e-05, momentum=0.1, affine=True, track_running_stats=True)\n",
       "        (relu): ReLU(inplace=True)\n",
       "        (conv2): Conv2d(512, 512, kernel_size=(3, 3), stride=(1, 1), padding=(1, 1), bias=False)\n",
       "        (bn2): BatchNorm2d(512, eps=1e-05, momentum=0.1, affine=True, track_running_stats=True)\n",
       "        (downsample): Sequential(\n",
       "          (0): Conv2d(256, 512, kernel_size=(1, 1), stride=(2, 2), bias=False)\n",
       "          (1): BatchNorm2d(512, eps=1e-05, momentum=0.1, affine=True, track_running_stats=True)\n",
       "        )\n",
       "      )\n",
       "      (1): BasicBlock(\n",
       "        (conv1): Conv2d(512, 512, kernel_size=(3, 3), stride=(1, 1), padding=(1, 1), bias=False)\n",
       "        (bn1): BatchNorm2d(512, eps=1e-05, momentum=0.1, affine=True, track_running_stats=True)\n",
       "        (relu): ReLU(inplace=True)\n",
       "        (conv2): Conv2d(512, 512, kernel_size=(3, 3), stride=(1, 1), padding=(1, 1), bias=False)\n",
       "        (bn2): BatchNorm2d(512, eps=1e-05, momentum=0.1, affine=True, track_running_stats=True)\n",
       "      )\n",
       "    )\n",
       "  )\n",
       "  (features2): Sequential(\n",
       "    (0): AdaptiveAvgPool2d(output_size=(1, 1))\n",
       "  )\n",
       "  (fc): Linear(in_features=512, out_features=7, bias=True)\n",
       "  (embed): Linear(in_features=512, out_features=1024, bias=True)\n",
       ")"
      ]
     },
     "execution_count": 6,
     "metadata": {},
     "output_type": "execute_result"
    }
   ],
   "source": [
    "model.load_state_dict(cp)\n",
    "device = torch.device('cuda:{}'.format(args.gpu))\n",
    "model.to(device)\n",
    "model.eval()"
   ]
  },
  {
   "cell_type": "code",
   "execution_count": 7,
   "id": "d3e736e6",
   "metadata": {},
   "outputs": [],
   "source": [
    "from PIL import Image\n",
    "import os\n",
    "\n",
    "# 수정된 eval_transforms (ToPILImage 제거)\n",
    "eval_transforms = transforms.Compose([\n",
    "    transforms.Resize((224, 224)),  # 이미지 크기 변경\n",
    "    transforms.ToTensor(),  # PIL 이미지를 텐서로 변환\n",
    "    transforms.Normalize(mean=[0.577, 0.4494, 0.4001],\n",
    "                         std=[0.2628, 0.2395, 0.2383])  # 정규화\n",
    "])\n",
    "\n",
    "# 이미지 경로에서 이미지 로드 및 변환\n",
    "def process_image(image_path):\n",
    "    # 파일 확장자 확인 (jpg, png만 처리)\n",
    "    if not image_path.lower().endswith(('jpg', 'png')):\n",
    "        raise ValueError(\"지원되지 않는 파일 형식입니다. jpg 또는 png 파일만 지원합니다.\")\n",
    "    \n",
    "    image = Image.open(image_path).convert(\"RGB\")  # RGB로 변환\n",
    "    image = eval_transforms(image)  # 변환 적용\n",
    "    \n",
    "    # 배치 차원을 추가하여 배치 단위로 만들기\n",
    "    image = image.unsqueeze(0)  # 배치 크기 1로 설정\n",
    "    return image\n",
    "\n",
    "# 이미지 경로 예시\n",
    "image_path = '/NLA/anger_me.png'\n",
    "\n",
    "# 이미지 처리\n",
    "image_tensor = process_image(image_path)\n",
    "\n",
    "\n",
    "# GPU 사용 여부 확인 및 모델을 GPU로 이동\n",
    "device = torch.device(\"cuda\" if torch.cuda.is_available() else \"cpu\")\n",
    "model.to(device)\n",
    "image_tensor = image_tensor.to(device)"
   ]
  },
  {
   "cell_type": "code",
   "execution_count": 9,
   "metadata": {},
   "outputs": [
    {
     "data": {
      "text/plain": [
       "torch.Size([1, 3, 224, 224])"
      ]
     },
     "execution_count": 9,
     "metadata": {},
     "output_type": "execute_result"
    }
   ],
   "source": [
    "image_tensor.shape"
   ]
  },
  {
   "cell_type": "code",
   "execution_count": 10,
   "id": "14424acb",
   "metadata": {},
   "outputs": [
    {
     "data": {
      "image/png": "[encoded data removed]",
      "text/plain": [
       "<Figure size 576x432 with 1 Axes>"
      ]
     },
     "metadata": {
      "needs_background": "light"
     },
     "output_type": "display_data"
    },
    {
     "name": "stdout",
     "output_type": "stream",
     "text": [
      "Predicted Class: Sadness (4)\n",
      "Class Probabilities: [4.0059825e-03 1.2561899e-03 2.0949868e-04 2.2659958e-03 9.5397800e-01\n",
      " 7.2093173e-03 3.1075066e-02]\n"
     ]
    }
   ],
   "source": [
    "import torch\n",
    "import matplotlib.pyplot as plt\n",
    "import numpy as np\n",
    "from torch.nn import Softmax\n",
    "\n",
    "# exp_dict 정의\n",
    "exp_dict = {0: 'Surprise', 1: 'Fear', 2: 'Disgust', 3: 'Happiness', 4: 'Sadness', 5: 'Anger', 6: 'Neutral'}\n",
    "\n",
    "# 클래스별 색상 지정 (원하는 색으로 자유롭게 바꿔도 됩니다)\n",
    "colors = ['orange', 'purple', 'green', 'yellow', 'blue', 'red', 'gray']\n",
    "\n",
    "# 모델에 입력하고 예측 결과 얻기\n",
    "with torch.no_grad():  # gradient 계산 비활성화 (추론 모드)\n",
    "    output = model(image_tensor)\n",
    "\n",
    "# 소프트맥스 적용\n",
    "softmax = Softmax(dim=1)\n",
    "probabilities = softmax(output)\n",
    "\n",
    "# 배치 차원 제거 및 NumPy 변환\n",
    "probabilities = probabilities.squeeze(0).cpu().numpy()\n",
    "\n",
    "# 예측된 클래스 및 라벨\n",
    "predicted_class = np.argmax(probabilities)\n",
    "predicted_label = exp_dict[predicted_class]\n",
    "\n",
    "# 확률 그래프 그리기\n",
    "plt.figure(figsize=(8, 6))\n",
    "plt.bar(exp_dict.values(), probabilities, color=colors)  # color 지정\n",
    "plt.xlabel('Expressions')\n",
    "plt.ylabel('Probability')\n",
    "plt.title(f'Predicted Expression: {predicted_label} (Class {predicted_class})')\n",
    "plt.xticks(rotation=45)\n",
    "plt.tight_layout()\n",
    "plt.show()\n",
    "\n",
    "# 예측 정보 출력\n",
    "print(f\"Predicted Class: {predicted_label} ({predicted_class})\")\n",
    "print(\"Class Probabilities:\", probabilities)\n"
   ]
  },
  {
   "cell_type": "code",
   "execution_count": null,
   "id": "d33ab5cf",
   "metadata": {},
   "outputs": [],
   "source": []
  }
 ],
 "metadata": {
  "kernelspec": {
   "display_name": "Python 3",
   "language": "python",
   "name": "python3"
  },
  "language_info": {
   "codemirror_mode": {
    "name": "ipython",
    "version": 3
   },
   "file_extension": ".py",
   "mimetype": "text/x-python",
   "name": "python",
   "nbconvert_exporter": "python",
   "pygments_lexer": "ipython3",
   "version": "3.10.12"
  }
 },
 "nbformat": 4,
 "nbformat_minor": 5
}
